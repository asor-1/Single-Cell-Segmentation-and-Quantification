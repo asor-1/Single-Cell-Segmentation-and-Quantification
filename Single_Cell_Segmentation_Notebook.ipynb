{
  "cells": [
    {
      "cell_type": "markdown",
      "metadata": {
        "id": "Q7c7V4yEqDc_"
      },
      "source": [
        "# Single Cell Segmentation Notebook\n",
        "\n",
        "<font size = 4>This notebook uses Cellpose 2.0 for single-cell segmentation. Please ensure that your images file type is `.tif`. If your images have `_maskes` in the name this notebook will automatically skip over those images.\n",
        "\n",
        "This notebook uses a custom pretrained model on your images. You will also need to ensure that your GPU is working. It is recommended to run this notebook on the T4 GPU with the High-RAM option.\n",
        "\n",
        "Mount your google drive to access all your image files and folders. This also ensures that all of ouput data is saved to your google drive.\n",
        "\n",
        "**If you are having trouble please refer to this document-> [Click Here!](https://docs.google.com/document/d/1V2_7eRCLVyZEPhSXaYh51OHRORT4UMGS3ajQ6RbXYdU/edit?usp=sharing)**"
      ]
    },
    {
      "cell_type": "markdown",
      "metadata": {
        "id": "IvyuR08OZfw4"
      },
      "source": [
        "## Setup\n",
        "\n",
        "We will first install cellpose 2.0, check the GPU is working, and mount google drive to get your models and images."
      ]
    },
    {
      "cell_type": "markdown",
      "metadata": {
        "id": "QUfSFlZgp1aV"
      },
      "source": [
        "Install cellpose -- by default the torch GPU version is installed in COLAB notebook."
      ]
    },
    {
      "cell_type": "code",
      "execution_count": 1,
      "metadata": {
        "colab": {
          "base_uri": "https://localhost:8080/"
        },
        "id": "jlMnqge-lQ9s",
        "outputId": "47353ec3-265b-4676-fe4a-34961be495a7"
      },
      "outputs": [
        {
          "output_type": "stream",
          "name": "stdout",
          "text": [
            "Collecting opencv-python-headless<4.3\n",
            "  Downloading opencv_python_headless-3.4.18.65-cp36-abi3-manylinux_2_17_x86_64.manylinux2014_x86_64.whl (45.7 MB)\n",
            "\u001b[2K     \u001b[90m━━━━━━━━━━━━━━━━━━━━━━━━━━━━━━━━━━━━━━━━\u001b[0m \u001b[32m45.7/45.7 MB\u001b[0m \u001b[31m26.6 MB/s\u001b[0m eta \u001b[36m0:00:00\u001b[0m\n",
            "\u001b[?25hRequirement already satisfied: numpy>=1.21.2 in /usr/local/lib/python3.10/dist-packages (from opencv-python-headless<4.3) (1.25.2)\n",
            "Installing collected packages: opencv-python-headless\n",
            "  Attempting uninstall: opencv-python-headless\n",
            "    Found existing installation: opencv-python-headless 4.9.0.80\n",
            "    Uninstalling opencv-python-headless-4.9.0.80:\n",
            "      Successfully uninstalled opencv-python-headless-4.9.0.80\n",
            "\u001b[31mERROR: pip's dependency resolver does not currently take into account all the packages that are installed. This behaviour is the source of the following dependency conflicts.\n",
            "albumentations 1.3.1 requires opencv-python-headless>=4.1.1, but you have opencv-python-headless 3.4.18.65 which is incompatible.\n",
            "qudida 0.0.4 requires opencv-python-headless>=4.0.1, but you have opencv-python-headless 3.4.18.65 which is incompatible.\u001b[0m\u001b[31m\n",
            "\u001b[0mSuccessfully installed opencv-python-headless-3.4.18.65\n",
            "Collecting cellpose\n",
            "  Downloading cellpose-3.0.7-py3-none-any.whl (204 kB)\n",
            "\u001b[2K     \u001b[90m━━━━━━━━━━━━━━━━━━━━━━━━━━━━━━━━━━━━━━━━\u001b[0m \u001b[32m204.4/204.4 kB\u001b[0m \u001b[31m3.7 MB/s\u001b[0m eta \u001b[36m0:00:00\u001b[0m\n",
            "\u001b[?25hRequirement already satisfied: numpy>=1.20.0 in /usr/local/lib/python3.10/dist-packages (from cellpose) (1.25.2)\n",
            "Requirement already satisfied: scipy in /usr/local/lib/python3.10/dist-packages (from cellpose) (1.11.4)\n",
            "Requirement already satisfied: natsort in /usr/local/lib/python3.10/dist-packages (from cellpose) (8.4.0)\n",
            "Requirement already satisfied: tifffile in /usr/local/lib/python3.10/dist-packages (from cellpose) (2024.2.12)\n",
            "Requirement already satisfied: tqdm in /usr/local/lib/python3.10/dist-packages (from cellpose) (4.66.2)\n",
            "Requirement already satisfied: numba>=0.53.0 in /usr/local/lib/python3.10/dist-packages (from cellpose) (0.58.1)\n",
            "Requirement already satisfied: llvmlite in /usr/local/lib/python3.10/dist-packages (from cellpose) (0.41.1)\n",
            "Requirement already satisfied: torch>=1.6 in /usr/local/lib/python3.10/dist-packages (from cellpose) (2.2.1+cu121)\n",
            "Requirement already satisfied: opencv-python-headless in /usr/local/lib/python3.10/dist-packages (from cellpose) (3.4.18.65)\n",
            "Collecting fastremap (from cellpose)\n",
            "  Downloading fastremap-1.14.1-cp310-cp310-manylinux_2_17_x86_64.manylinux2014_x86_64.whl (6.0 MB)\n",
            "\u001b[2K     \u001b[90m━━━━━━━━━━━━━━━━━━━━━━━━━━━━━━━━━━━━━━━━\u001b[0m \u001b[32m6.0/6.0 MB\u001b[0m \u001b[31m17.7 MB/s\u001b[0m eta \u001b[36m0:00:00\u001b[0m\n",
            "\u001b[?25hCollecting imagecodecs (from cellpose)\n",
            "  Downloading imagecodecs-2024.1.1-cp310-cp310-manylinux_2_17_x86_64.manylinux2014_x86_64.whl (39.6 MB)\n",
            "\u001b[2K     \u001b[90m━━━━━━━━━━━━━━━━━━━━━━━━━━━━━━━━━━━━━━━━\u001b[0m \u001b[32m39.6/39.6 MB\u001b[0m \u001b[31m33.7 MB/s\u001b[0m eta \u001b[36m0:00:00\u001b[0m\n",
            "\u001b[?25hCollecting roifile (from cellpose)\n",
            "  Downloading roifile-2024.3.20-py3-none-any.whl (16 kB)\n",
            "Requirement already satisfied: filelock in /usr/local/lib/python3.10/dist-packages (from torch>=1.6->cellpose) (3.13.3)\n",
            "Requirement already satisfied: typing-extensions>=4.8.0 in /usr/local/lib/python3.10/dist-packages (from torch>=1.6->cellpose) (4.10.0)\n",
            "Requirement already satisfied: sympy in /usr/local/lib/python3.10/dist-packages (from torch>=1.6->cellpose) (1.12)\n",
            "Requirement already satisfied: networkx in /usr/local/lib/python3.10/dist-packages (from torch>=1.6->cellpose) (3.2.1)\n",
            "Requirement already satisfied: jinja2 in /usr/local/lib/python3.10/dist-packages (from torch>=1.6->cellpose) (3.1.3)\n",
            "Requirement already satisfied: fsspec in /usr/local/lib/python3.10/dist-packages (from torch>=1.6->cellpose) (2023.6.0)\n",
            "Collecting nvidia-cuda-nvrtc-cu12==12.1.105 (from torch>=1.6->cellpose)\n",
            "  Downloading nvidia_cuda_nvrtc_cu12-12.1.105-py3-none-manylinux1_x86_64.whl (23.7 MB)\n",
            "\u001b[2K     \u001b[90m━━━━━━━━━━━━━━━━━━━━━━━━━━━━━━━━━━━━━━━━\u001b[0m \u001b[32m23.7/23.7 MB\u001b[0m \u001b[31m56.0 MB/s\u001b[0m eta \u001b[36m0:00:00\u001b[0m\n",
            "\u001b[?25hCollecting nvidia-cuda-runtime-cu12==12.1.105 (from torch>=1.6->cellpose)\n",
            "  Downloading nvidia_cuda_runtime_cu12-12.1.105-py3-none-manylinux1_x86_64.whl (823 kB)\n",
            "\u001b[2K     \u001b[90m━━━━━━━━━━━━━━━━━━━━━━━━━━━━━━━━━━━━━━━━\u001b[0m \u001b[32m823.6/823.6 kB\u001b[0m \u001b[31m52.9 MB/s\u001b[0m eta \u001b[36m0:00:00\u001b[0m\n",
            "\u001b[?25hCollecting nvidia-cuda-cupti-cu12==12.1.105 (from torch>=1.6->cellpose)\n",
            "  Downloading nvidia_cuda_cupti_cu12-12.1.105-py3-none-manylinux1_x86_64.whl (14.1 MB)\n",
            "\u001b[2K     \u001b[90m━━━━━━━━━━━━━━━━━━━━━━━━━━━━━━━━━━━━━━━━\u001b[0m \u001b[32m14.1/14.1 MB\u001b[0m \u001b[31m75.0 MB/s\u001b[0m eta \u001b[36m0:00:00\u001b[0m\n",
            "\u001b[?25hCollecting nvidia-cudnn-cu12==8.9.2.26 (from torch>=1.6->cellpose)\n",
            "  Downloading nvidia_cudnn_cu12-8.9.2.26-py3-none-manylinux1_x86_64.whl (731.7 MB)\n",
            "\u001b[2K     \u001b[90m━━━━━━━━━━━━━━━━━━━━━━━━━━━━━━━━━━━━━━━━\u001b[0m \u001b[32m731.7/731.7 MB\u001b[0m \u001b[31m2.1 MB/s\u001b[0m eta \u001b[36m0:00:00\u001b[0m\n",
            "\u001b[?25hCollecting nvidia-cublas-cu12==12.1.3.1 (from torch>=1.6->cellpose)\n",
            "  Downloading nvidia_cublas_cu12-12.1.3.1-py3-none-manylinux1_x86_64.whl (410.6 MB)\n",
            "\u001b[2K     \u001b[90m━━━━━━━━━━━━━━━━━━━━━━━━━━━━━━━━━━━━━━━━\u001b[0m \u001b[32m410.6/410.6 MB\u001b[0m \u001b[31m2.4 MB/s\u001b[0m eta \u001b[36m0:00:00\u001b[0m\n",
            "\u001b[?25hCollecting nvidia-cufft-cu12==11.0.2.54 (from torch>=1.6->cellpose)\n",
            "  Downloading nvidia_cufft_cu12-11.0.2.54-py3-none-manylinux1_x86_64.whl (121.6 MB)\n",
            "\u001b[2K     \u001b[90m━━━━━━━━━━━━━━━━━━━━━━━━━━━━━━━━━━━━━━━━\u001b[0m \u001b[32m121.6/121.6 MB\u001b[0m \u001b[31m13.2 MB/s\u001b[0m eta \u001b[36m0:00:00\u001b[0m\n",
            "\u001b[?25hCollecting nvidia-curand-cu12==10.3.2.106 (from torch>=1.6->cellpose)\n",
            "  Downloading nvidia_curand_cu12-10.3.2.106-py3-none-manylinux1_x86_64.whl (56.5 MB)\n",
            "\u001b[2K     \u001b[90m━━━━━━━━━━━━━━━━━━━━━━━━━━━━━━━━━━━━━━━━\u001b[0m \u001b[32m56.5/56.5 MB\u001b[0m \u001b[31m25.9 MB/s\u001b[0m eta \u001b[36m0:00:00\u001b[0m\n",
            "\u001b[?25hCollecting nvidia-cusolver-cu12==11.4.5.107 (from torch>=1.6->cellpose)\n",
            "  Downloading nvidia_cusolver_cu12-11.4.5.107-py3-none-manylinux1_x86_64.whl (124.2 MB)\n",
            "\u001b[2K     \u001b[90m━━━━━━━━━━━━━━━━━━━━━━━━━━━━━━━━━━━━━━━━\u001b[0m \u001b[32m124.2/124.2 MB\u001b[0m \u001b[31m7.3 MB/s\u001b[0m eta \u001b[36m0:00:00\u001b[0m\n",
            "\u001b[?25hCollecting nvidia-cusparse-cu12==12.1.0.106 (from torch>=1.6->cellpose)\n",
            "  Downloading nvidia_cusparse_cu12-12.1.0.106-py3-none-manylinux1_x86_64.whl (196.0 MB)\n",
            "\u001b[2K     \u001b[90m━━━━━━━━━━━━━━━━━━━━━━━━━━━━━━━━━━━━━━━━\u001b[0m \u001b[32m196.0/196.0 MB\u001b[0m \u001b[31m3.9 MB/s\u001b[0m eta \u001b[36m0:00:00\u001b[0m\n",
            "\u001b[?25hCollecting nvidia-nccl-cu12==2.19.3 (from torch>=1.6->cellpose)\n",
            "  Downloading nvidia_nccl_cu12-2.19.3-py3-none-manylinux1_x86_64.whl (166.0 MB)\n",
            "\u001b[2K     \u001b[90m━━━━━━━━━━━━━━━━━━━━━━━━━━━━━━━━━━━━━━━━\u001b[0m \u001b[32m166.0/166.0 MB\u001b[0m \u001b[31m8.6 MB/s\u001b[0m eta \u001b[36m0:00:00\u001b[0m\n",
            "\u001b[?25hCollecting nvidia-nvtx-cu12==12.1.105 (from torch>=1.6->cellpose)\n",
            "  Downloading nvidia_nvtx_cu12-12.1.105-py3-none-manylinux1_x86_64.whl (99 kB)\n",
            "\u001b[2K     \u001b[90m━━━━━━━━━━━━━━━━━━━━━━━━━━━━━━━━━━━━━━━━\u001b[0m \u001b[32m99.1/99.1 kB\u001b[0m \u001b[31m14.3 MB/s\u001b[0m eta \u001b[36m0:00:00\u001b[0m\n",
            "\u001b[?25hRequirement already satisfied: triton==2.2.0 in /usr/local/lib/python3.10/dist-packages (from torch>=1.6->cellpose) (2.2.0)\n",
            "Collecting nvidia-nvjitlink-cu12 (from nvidia-cusolver-cu12==11.4.5.107->torch>=1.6->cellpose)\n",
            "  Downloading nvidia_nvjitlink_cu12-12.4.99-py3-none-manylinux2014_x86_64.whl (21.1 MB)\n",
            "\u001b[2K     \u001b[90m━━━━━━━━━━━━━━━━━━━━━━━━━━━━━━━━━━━━━━━━\u001b[0m \u001b[32m21.1/21.1 MB\u001b[0m \u001b[31m65.6 MB/s\u001b[0m eta \u001b[36m0:00:00\u001b[0m\n",
            "\u001b[?25hRequirement already satisfied: MarkupSafe>=2.0 in /usr/local/lib/python3.10/dist-packages (from jinja2->torch>=1.6->cellpose) (2.1.5)\n",
            "Requirement already satisfied: mpmath>=0.19 in /usr/local/lib/python3.10/dist-packages (from sympy->torch>=1.6->cellpose) (1.3.0)\n",
            "Installing collected packages: roifile, nvidia-nvtx-cu12, nvidia-nvjitlink-cu12, nvidia-nccl-cu12, nvidia-curand-cu12, nvidia-cufft-cu12, nvidia-cuda-runtime-cu12, nvidia-cuda-nvrtc-cu12, nvidia-cuda-cupti-cu12, nvidia-cublas-cu12, imagecodecs, fastremap, nvidia-cusparse-cu12, nvidia-cudnn-cu12, nvidia-cusolver-cu12, cellpose\n",
            "Successfully installed cellpose-3.0.7 fastremap-1.14.1 imagecodecs-2024.1.1 nvidia-cublas-cu12-12.1.3.1 nvidia-cuda-cupti-cu12-12.1.105 nvidia-cuda-nvrtc-cu12-12.1.105 nvidia-cuda-runtime-cu12-12.1.105 nvidia-cudnn-cu12-8.9.2.26 nvidia-cufft-cu12-11.0.2.54 nvidia-curand-cu12-10.3.2.106 nvidia-cusolver-cu12-11.4.5.107 nvidia-cusparse-cu12-12.1.0.106 nvidia-nccl-cu12-2.19.3 nvidia-nvjitlink-cu12-12.4.99 nvidia-nvtx-cu12-12.1.105 roifile-2024.3.20\n"
          ]
        }
      ],
      "source": [
        "!pip install \"opencv-python-headless<4.3\"\n",
        "!pip install cellpose"
      ]
    },
    {
      "cell_type": "markdown",
      "metadata": {
        "id": "e2cBEO1PLuO7"
      },
      "source": [
        "This cell checks the CUDA version and that GPU is working in cellpose. This also imports other neccesary libraries."
      ]
    },
    {
      "cell_type": "code",
      "execution_count": 2,
      "metadata": {
        "colab": {
          "base_uri": "https://localhost:8080/"
        },
        "id": "Tt8hgC7rniP8",
        "outputId": "2387ef6b-f974-48d8-b274-79cdef66f2fa"
      },
      "outputs": [
        {
          "output_type": "stream",
          "name": "stdout",
          "text": [
            "nvcc: NVIDIA (R) Cuda compiler driver\n",
            "Copyright (c) 2005-2023 NVIDIA Corporation\n",
            "Built on Tue_Aug_15_22:02:13_PDT_2023\n",
            "Cuda compilation tools, release 12.2, V12.2.140\n",
            "Build cuda_12.2.r12.2/compiler.33191640_0\n",
            "Wed Apr  3 02:20:40 2024       \n",
            "+---------------------------------------------------------------------------------------+\n",
            "| NVIDIA-SMI 535.104.05             Driver Version: 535.104.05   CUDA Version: 12.2     |\n",
            "|-----------------------------------------+----------------------+----------------------+\n",
            "| GPU  Name                 Persistence-M | Bus-Id        Disp.A | Volatile Uncorr. ECC |\n",
            "| Fan  Temp   Perf          Pwr:Usage/Cap |         Memory-Usage | GPU-Util  Compute M. |\n",
            "|                                         |                      |               MIG M. |\n",
            "|=========================================+======================+======================|\n",
            "|   0  Tesla T4                       Off | 00000000:00:04.0 Off |                    0 |\n",
            "| N/A   41C    P8              10W /  70W |      0MiB / 15360MiB |      0%      Default |\n",
            "|                                         |                      |                  N/A |\n",
            "+-----------------------------------------+----------------------+----------------------+\n",
            "                                                                                         \n",
            "+---------------------------------------------------------------------------------------+\n",
            "| Processes:                                                                            |\n",
            "|  GPU   GI   CI        PID   Type   Process name                            GPU Memory |\n",
            "|        ID   ID                                                             Usage      |\n",
            "|=======================================================================================|\n",
            "|  No running processes found                                                           |\n",
            "+---------------------------------------------------------------------------------------+\n",
            "Is the User's GPU activated? YES\n"
          ]
        }
      ],
      "source": [
        "!nvcc --version\n",
        "!nvidia-smi\n",
        "\n",
        "import os, shutil, cv2\n",
        "import numpy as np\n",
        "import pandas as pd\n",
        "import matplotlib.pyplot as plt\n",
        "from cellpose import core, utils, io, models, metrics\n",
        "import skimage.io\n",
        "from skimage.measure import label, regionprops\n",
        "from glob import glob\n",
        "\n",
        "use_GPU = core.use_gpu()\n",
        "yn = ['NO', 'YES']\n",
        "print(f\"Is the User's GPU activated? {yn[use_GPU]}\")"
      ]
    },
    {
      "cell_type": "markdown",
      "metadata": {
        "id": "heEiTSWQZZ6y"
      },
      "source": [
        "## 1. Mounting your google drive\n",
        "\n",
        "Please mount your google drive and with the two folders. The first folder should be the input folder with all of your input images. The second folder should be an empty folder because this folder will hold of all the morphology data and processed image. **Please ensure that your images end in** `.tif`."
      ]
    },
    {
      "cell_type": "code",
      "execution_count": 3,
      "metadata": {
        "cellView": "form",
        "colab": {
          "base_uri": "https://localhost:8080/"
        },
        "id": "uGUNrjdRfVDs",
        "outputId": "f601c415-8f54-47be-c81d-aa159788ea87"
      },
      "outputs": [
        {
          "output_type": "stream",
          "name": "stdout",
          "text": [
            "Mounted at /content/gdrive\n"
          ]
        }
      ],
      "source": [
        "\n",
        "#@markdown ###Run this cell to connect your Google Drive to Colab\n",
        "\n",
        "#@markdown * Click on the run cell.\n",
        "\n",
        "#@markdown * Sign in your Google Account.\n",
        "\n",
        "#@markdown * Allow the notebook access to your Google Drive.\n",
        "\n",
        "\n",
        "#@markdown * Click on \"Files\" site on the left in Colab. Your Google Drive folder should now be available here as \"drive\" or \"gdrive\".\n",
        "\n",
        "#mounts user's Google Drive to Google Colab.\n",
        "\n",
        "from google.colab import drive\n",
        "drive.mount('/content/gdrive')\n",
        "\n",
        "\n"
      ]
    },
    {
      "cell_type": "markdown",
      "metadata": {
        "id": "ylNOuv3yVerb"
      },
      "source": [
        "##Training your own Cellpose Model (Optional)\n",
        "To understand how to train a Cellpose Model please watch this YouTube video -> [Click Here!](https://www.youtube.com/watch?v=5qANHWoubZU)"
      ]
    },
    {
      "cell_type": "code",
      "execution_count": null,
      "metadata": {
        "cellView": "form",
        "id": "K0zayZRcXTp6"
      },
      "outputs": [],
      "source": [
        "from cellpose import io, models, train, metrics\n",
        "import torch\n",
        "#Define where the patch file will be saved\n",
        "base = \"/content\"\n",
        "#@markdown ###Path to images and masks:\n",
        "train_dir = \"human_in_the_loop/train\" #@param {type:\"string\"}\n",
        "test_dir = \"human_in_the_loop/test\" #@param {type:\"string\"}\n",
        "\n",
        "# model name and path\n",
        "#@markdown ###Name of the pretrained model to start from and new model name:\n",
        "initial_model = \"cyto\" #@param [\"cyto\", \"cyto3\",\"nuclei\",\"tissuenet_cp3\", \"livecell_cp3\", \"yeast_PhC_cp3\", \"yeast_BF_cp3\", \"bact_phase_cp3\", \"bact_fluor_cp3\", \"deepbacs_cp3\", \"scratch\"]\n",
        "model_name = \"new_Cellpose_model\" #@param {type:\"string\"}\n",
        "\n",
        "# other parameters for training.\n",
        "#@markdown ###Training Parameters:\n",
        "#@markdown Number of epochs:\n",
        "n_epochs =  100#@param {type:\"number\"}\n",
        "\n",
        "Channel_to_use_for_training = \"Blue\" #@param [\"Grayscale\", \"Blue\", \"Green\", \"Red\"]\n",
        "\n",
        "# @markdown ###If you have a secondary channel that can be used for training, for instance nuclei, choose it here (Not Recommended):\n",
        "\n",
        "Second_training_channel= \"Red\" #@param [\"None\", \"Blue\", \"Green\", \"Red\"]\n",
        "\n",
        "\n",
        "#@markdown ###Advanced Parameters\n",
        "\n",
        "Use_Default_Advanced_Parameters = True #@param {type:\"boolean\"}\n",
        "#@markdown ###If not, please input:\n",
        "learning_rate = 0.1 #@param {type:\"number\"}\n",
        "weight_decay = 0.0001 #@param {type:\"number\"}\n",
        "\n",
        "if (Use_Default_Advanced_Parameters):\n",
        "  print(\"Default advanced parameters enabled\")\n",
        "  learning_rate = 0.1\n",
        "  weight_decay = 0.0001\n",
        "\n",
        "#here we check that no model with the same name already exist, if so delete\n",
        "model_path = train_dir + 'models/'\n",
        "if os.path.exists(model_path+'/'+model_name):\n",
        "  print(\"!! WARNING: \"+model_name+\" already exists and will be deleted in the following cell !!\")\n",
        "\n",
        "if len(test_dir) == 0:\n",
        "  test_dir = None\n",
        "\n",
        "# Here we match the channel to number\n",
        "if Channel_to_use_for_training == \"Grayscale\":\n",
        "  chan = 0\n",
        "elif Channel_to_use_for_training == \"Blue\":\n",
        "  chan = 3\n",
        "elif Channel_to_use_for_training == \"Green\":\n",
        "  chan = 2\n",
        "elif Channel_to_use_for_training == \"Red\":\n",
        "  chan = 1\n",
        "\n",
        "\n",
        "if Second_training_channel == \"Blue\":\n",
        "  chan2 = 3\n",
        "elif Second_training_channel == \"Green\":\n",
        "  chan2 = 2\n",
        "elif Second_training_channel == \"Red\":\n",
        "  chan2 = 1\n",
        "elif Second_training_channel == \"None\":\n",
        "  chan2 = 0\n",
        "\n",
        "if initial_model=='scratch':\n",
        "  initial_model = 'None'\n",
        "\n",
        "logger = io.logger_setup()\n",
        "\n",
        "channels = [chan, chan2]\n",
        "\n",
        "# Get files\n",
        "output = io.load_train_test_data(train_dir, test_dir, mask_filter='_seg.npy')\n",
        "train_data, train_labels, _, test_data, test_labels, _ = output\n",
        "\n",
        "# Define model parameters\n",
        "model = models.CellposeModel(gpu=use_GPU, model_type=initial_model)\n",
        "\n",
        "# Train the model\n",
        "new_model_path = train.train_seg(net=model.net, train_data=train_data, train_labels=train_labels,\n",
        "                                 test_data=test_data, test_labels=test_labels,\n",
        "                                 channels=channels, save_path=train_dir,\n",
        "                                 n_epochs=n_epochs, learning_rate=learning_rate,\n",
        "                                 weight_decay=weight_decay, nimg_per_epoch=8,\n",
        "                                 model_name=model_name)\n",
        "\n",
        "# Load the trained model\n",
        "trained_model = models.CellposeModel(gpu=use_GPU, model_type=initial_model)\n",
        "trained_model.net.load_state_dict(torch.load(new_model_path))\n",
        "\n",
        "# Get the parameters of the trained model\n",
        "trained_model_params = trained_model.net.parameters()\n",
        "\n",
        "# Diameter of labels in training images\n",
        "diam_labels = trained_model.diam_mean.item()\n",
        "\n",
        "# Get test files (during training, test_data is transformed so we will load it again)\n",
        "test_output = io.load_train_test_data(test_dir, mask_filter='_seg.npy')\n",
        "test_data, test_labels = test_output[:2]\n",
        "\n",
        "# Run model on test images\n",
        "masks_test = trained_model.eval(test_data,channels=channels,diameter=diam_labels)[0]\n",
        "\n",
        "# Check performance using ground truth labels\n",
        "ap = metrics.average_precision(test_labels, masks_test)[0]\n",
        "print(f'average precision at iou threshold 0.5 = {ap[:,0].mean():.3f}')\n"
      ]
    },
    {
      "cell_type": "markdown",
      "metadata": {
        "id": "KbVIZbNk5hgR"
      },
      "source": [
        "# Use custom model to segment images\n",
        "\n",
        "Take custom trained model from above, or upload your own model to google drive / colab runtime.\n",
        "\n",
        "## 2. Parameters"
      ]
    },
    {
      "cell_type": "code",
      "execution_count": 4,
      "metadata": {
        "cellView": "form",
        "id": "vDu4Ixjo588O"
      },
      "outputs": [],
      "source": [
        "#@markdown ###Custom model path (full path):\n",
        "\n",
        "model_path = \"/content/gdrive/MyDrive/colab_test/green_model_train/models/CP_tissuenet4\" #@param {type:\"string\"}\n",
        "\n",
        "#@markdown ###Path to images and output folder(s):\n",
        "\n",
        "input_folder = \"/content/gdrive/MyDrive/colab_test/testingLOL\" #@param {type:\"string\"}\n",
        "\n",
        "output_folder = \"/content/gdrive/MyDrive/colab_test/Well_A3_Output\" #@param {type:\"string\"}\n",
        "\n",
        "#@markdown ###Channel Parameters:\n",
        "\n",
        "Channel_to_use_for_segmentation = \"Grayscale\" #@param [\"Grayscale\", \"Blue\", \"Green\", \"Red\"]\n",
        "\n",
        "# @markdown (Not Recommended)If you have a secondary channel that can be used, for instance nuclei, choose it here:\n",
        "\n",
        "Second_segmentation_channel= \"None\" #@param [\"None\", \"Blue\", \"Green\", \"Red\"]\n",
        "\n",
        "\n",
        "# Here we match the channel to number\n",
        "if Channel_to_use_for_segmentation == \"Grayscale\":\n",
        "  chan = 0\n",
        "elif Channel_to_use_for_segmentation == \"Blue\":\n",
        "  chan = 3\n",
        "elif Channel_to_use_for_segmentation == \"Green\":\n",
        "  chan = 2\n",
        "elif Channel_to_use_for_segmentation == \"Red\":\n",
        "  chan = 1\n",
        "\n",
        "\n",
        "if Second_segmentation_channel == \"Blue\":\n",
        "  chan2 = 3\n",
        "elif Second_segmentation_channel == \"Green\":\n",
        "  chan2 = 2\n",
        "elif Second_segmentation_channel == \"Red\":\n",
        "  chan2 = 1\n",
        "elif Second_segmentation_channel == \"None\":\n",
        "  chan2 = 0\n",
        "\n",
        "#@markdown ### Segmentation parameters:\n",
        "\n",
        "#@markdown diameter of cells (set to zero to use diameter from training set):\n",
        "diameter =  0#@param {type:\"number\"}\n",
        "#@markdown threshold on flow error to accept a mask (set higher to get more cells, e.g. in range from (0.1, 3.0), OR set to 0.0 to turn off so no cells discarded):\n",
        "flow_threshold = 1 #@param {type:\"slider\", min:0.0, max:3.0, step:0.1}\n",
        "#@markdown threshold on cellprob output to seed cell masks (set lower to include more pixels or higher to include fewer, e.g. in range from (-6, 6)):\n",
        "cellprob_threshold=-1 #@param {type:\"slider\", min:-6, max:6, step:1}\n"
      ]
    },
    {
      "cell_type": "markdown",
      "metadata": {
        "id": "QN3rdsfMBc_8"
      },
      "source": [
        "## 3. Running the model"
      ]
    },
    {
      "cell_type": "code",
      "execution_count": 5,
      "metadata": {
        "colab": {
          "base_uri": "https://localhost:8080/"
        },
        "id": "gCcbs722BYd0",
        "outputId": "cd7c574e-d5fe-44c5-ca08-fe67e8d3773c"
      },
      "outputs": [
        {
          "output_type": "stream",
          "name": "stdout",
          "text": [
            "['/content/gdrive/MyDrive/colab_test/testingLOL/Copy of 20230930_164848_489__WellA1_ChannelCamera - Blue,Camera - Transmission,Camera - Green,Camera - Gold_Seq0000_A1_0017_Camera - Green.tif', '/content/gdrive/MyDrive/colab_test/testingLOL/Copy of Copy of 20230930_161325_546__WellA2_ChannelCamera - Blue,Camera - Transmission,Camera - Green,Camera - Gold_Seq0001_A2_0000_Camera - Green.tif', '/content/gdrive/MyDrive/colab_test/testingLOL/Copy of Copy of 20230930_161325_546__WellA2_ChannelCamera - Blue,Camera - Transmission,Camera - Green,Camera - Gold_Seq0001_A2_0007_Camera - Green.tif', '/content/gdrive/MyDrive/colab_test/testingLOL/Copy of Copy of 20230930_161325_546__WellA2_ChannelCamera - Blue,Camera - Transmission,Camera - Green,Camera - Gold_Seq0001_A2_0008_Camera - Green.tif', '/content/gdrive/MyDrive/colab_test/testingLOL/Copy of Copy of 20230930_161325_546__WellA2_ChannelCamera - Blue,Camera - Transmission,Camera - Green,Camera - Gold_Seq0001_A2_0009_Camera - Green.tif', '/content/gdrive/MyDrive/colab_test/testingLOL/Copy of Copy of 20230930_164848_489__WellA2_ChannelCamera - Blue,Camera - Transmission,Camera - Green,Camera - Gold_Seq0001_A2_0033_Camera - Green.tif', '/content/gdrive/MyDrive/colab_test/testingLOL/Copy of Copy of 20230930_164848_489__WellA2_ChannelCamera - Blue,Camera - Transmission,Camera - Green,Camera - Gold_Seq0001_A2_0034_Camera - Green.tif', '/content/gdrive/MyDrive/colab_test/testingLOL/Copy of Copy of 20230930_164848_489__WellA2_ChannelCamera - Blue,Camera - Transmission,Camera - Green,Camera - Gold_Seq0001_A2_0035_Camera - Green.tif']\n",
            "running the segmentation model\n",
            "Number of processed masks: 8\n"
          ]
        }
      ],
      "source": [
        "files = io.get_image_files(input_folder,'_masks')\n",
        "print(files)\n",
        "images = [io.imread(f) for f in files]\n",
        "# creating lists for the processed images\n",
        "processed_images = []\n",
        "\n",
        "model = models.CellposeModel(gpu=True,\n",
        "                             pretrained_model=model_path)\n",
        "\n",
        "# use model diameter if the users diameter is 0\n",
        "diameter = model.diam_labels if diameter==0 else diameter\n",
        "\n",
        "print(\"running the segmentation model\")\n",
        "  # run model on test images\n",
        "masks, flows, styles = model.eval(images,\n",
        "                                  channels=[chan, chan2],\n",
        "                                  diameter=diameter,\n",
        "                                  flow_threshold=flow_threshold,\n",
        "                                  cellprob_threshold=cellprob_threshold\n",
        "                                  )\n",
        "\n",
        "\n",
        "#Iterate through the processed masks and add them to the list\n",
        "for mask in masks:\n",
        "    processed_images.append(mask)\n",
        "print(f\"Number of processed images: {len(masks)}\")\n",
        "#Un-comment code if you want to save your segmented images (code used from cellpose function)\n",
        "#io.save_masks(images,\n",
        "              #masks,\n",
        "              #flows,\n",
        "              #files,\n",
        "              #channels=[chan, chan2],\n",
        "              #png=True, # save masks as PNGs and save example image\n",
        "              #tif=True, # save masks as TIFFs\n",
        "              #save_txt=True, # save txt outlines for ImageJ\n",
        "              #save_flows=False, # save flows as TIFFs\n",
        "              #save_outlines=False, # save outlines as TIFFs\n",
        "              #)\n"
      ]
    },
    {
      "cell_type": "markdown",
      "metadata": {
        "id": "VM5Fn5wmto1u"
      },
      "source": [
        "# 4. Quantification of Intensity **(Please Read!)**\n",
        "\n",
        "> Instructions for raw and quality control intensity measurement\n",
        "\n",
        "**If you just want to find the intensity on the raw masks then you can use the two code cells below.**\n",
        "****\n",
        "**If you want to find the intensity after  quality control after you run this cell go to the quality control section. Complete the quality control cell and then run the cell below it to output the csv file containing raw and normalized intensity.**"
      ]
    },
    {
      "cell_type": "code",
      "execution_count": null,
      "metadata": {
        "cellView": "form",
        "id": "0-6Ay5EM3krz"
      },
      "outputs": [],
      "source": [
        "import os\n",
        "import pandas as pd\n",
        "import numpy as np\n",
        "from skimage import io\n",
        "\n",
        "#@markdown ####Path to the folder containing new channel images\n",
        "# Path to the folder containing new channel images\n",
        "images_path = \"/content/gdrive/MyDrive/colab_test/HS_09_p1_A1_Green\" #@param\n",
        "\n",
        "# Initialize an empty list to store data for all images\n",
        "all_images_data = []\n",
        "\n",
        "print(\"Iterate through each green channel image and its corresponding processed masks\")\n",
        "# Iterate through each green channel image and its corresponding processed masks\n",
        "for other_image_filename, masks in zip(os.listdir(images_path), processed_images):\n",
        "    other_image_path = os.path.join(images_path, other_image_filename)\n",
        "    other_image = io.imread(other_image_path)\n",
        "\n",
        "    mask_data_list = []\n",
        "\n",
        "    for mask_number in np.unique(masks):\n",
        "        mean_intensity_with_background = np.mean(green_image[masks == mask_number])\n",
        "\n",
        "        # Append to the cell_data_list for each image\n",
        "        mask_data_list.append({\n",
        "            \"Cell ID\": f\"{mask_number}\",\n",
        "            \"intensity_raw\": mean_intensity_with_background\n",
        "        })\n",
        "\n",
        "    # Calculate average intensity and number of cells for each image\n",
        "    avg_intensity = np.mean([mask_data['intensity_raw'] for mask_data in mask_data_list])\n",
        "    num_masks = len(mask_data_list)\n",
        "    avg_intensity_per_mask = avg_intensity / num_masks\n",
        "\n",
        "    # Append data for each image to the all_images_data list\n",
        "    all_images_data.append({\n",
        "        \"filename\": other_image_filename,\n",
        "        \"avg_intensity\": avg_intensity,\n",
        "        \"num_cells\": num_masks,\n",
        "        \"avg_intensity_per_cell\": avg_intensity_per_mask\n",
        "    })\n",
        "\n",
        "    # Create a DataFrame from the cell data list for each image\n",
        "    data = pd.DataFrame(mask_data_list)\n",
        "\n",
        "    # Save the DataFrame as a CSV file for each image\n",
        "    csv_filename = os.path.join(output_folder, f\"{other_image_filename}_intensity_results.csv\")\n",
        "    data.to_csv(csv_filename, index=False)\n",
        "\n",
        "# Create a DataFrame for all images and save it as a single CSV file\n",
        "all_images_df = pd.DataFrame(all_images_data)\n",
        "all_images_csv_filename = os.path.join(output_folder, \"all_images_intensity_results.csv\")\n",
        "all_images_df.to_csv(all_images_csv_filename, index=False)\n"
      ]
    },
    {
      "cell_type": "code",
      "execution_count": null,
      "metadata": {
        "id": "2R_1GaPaUncl"
      },
      "outputs": [],
      "source": [
        "plt.figure(figsize=(10, 6))\n",
        "plt.scatter(np.zeros_like(data['intensity_raw']), data['intensity_raw'], label='Day 1', s=100)\n",
        "\n",
        "# Find the mean line for the section\n",
        "mean_intensity = np.mean(data['intensity_raw'])\n",
        "plt.axhline(y=mean_intensity, color='blue', linestyle='-', linewidth=2, label='Mean Day 1', xmin=0.05, xmax=0.3)\n",
        "# Set x-axis labels\n",
        "plt.xticks([0], ['Day 1'])\n",
        "\n",
        "# Set y-axis limit to 3\n",
        "plt.ylim(0, 3)\n",
        "\n",
        "# Add labels and title\n",
        "plt.xlabel('Timepoint (Days)')\n",
        "plt.ylabel('Intensity')\n",
        "plt.title('Title')\n",
        "plt.legend()\n",
        "\n",
        "# Save the plot for each image\n",
        "plt.savefig(os.path.join(output_folder, \"title.png\"))\n",
        "\n",
        "# Show the plot\n",
        "plt.show()"
      ]
    },
    {
      "cell_type": "markdown",
      "metadata": {
        "id": "fXZ8szfgFaep"
      },
      "source": [
        "Finding the intensity of the masks on other images."
      ]
    },
    {
      "cell_type": "code",
      "execution_count": null,
      "metadata": {
        "cellView": "form",
        "id": "IZeG42D_Ow7O"
      },
      "outputs": [],
      "source": [
        "import os\n",
        "import numpy as np\n",
        "import pandas as pd\n",
        "from skimage import io\n",
        "import matplotlib.pyplot as plt\n",
        "\n",
        "#@markdown ####Path to the combined folder containing both regular and green channel images\n",
        "new_images_folder = \"/content/gdrive/MyDrive/colab_test/Well_B2_green\" #@param\n",
        "#@markdown ####The name for the file containing all of the randomly selected masks\n",
        "random_masks_file_name = \"name\" #@param\n",
        "# Initialize an empty list to store data for all images\n",
        "all_images_data = []\n",
        "selected_masks_intensity = []\n",
        "\n",
        "# Iterate through each other channels imagse and its corresponding processed masks\n",
        "print('Iterating through each channels images and its corresponding processed masks')\n",
        "for other_image_filename, masks in zip(os.listdir(new_images_folder), processed_images):\n",
        "    other_image_path = os.path.join(new_images_folder, other_image_filename)\n",
        "    other_image = io.imread(other_image_path)\n",
        "\n",
        "    # Initialize an empty list to store cell data for each image\n",
        "    mask_data_list = []\n",
        "    print(\"creating CSV files for all images\")\n",
        "    for mask_number in np.unique(masks):\n",
        "        mean_intensity_with_background = np.mean(other_image[masks == mask_number])\n",
        "\n",
        "        # Append to the cell_data_list for each image\n",
        "        mask_data_list.append({\n",
        "            \"Cell ID\": f\"{mask_number}\",\n",
        "            \"intensity_raw\": mean_intensity_with_background\n",
        "        })\n",
        "\n",
        "\n",
        "    print(\"Randomly selecting masks\")\n",
        "    #@markdown ####Randomly select ~27 cells per image\n",
        "    num_masks_per_image = 27 #@param\n",
        "\n",
        "    # Use the previously calculated intensity values for selected cells\n",
        "    selected_indices = np.random.choice(len(mask_data_list), size=min(num_masks_per_image, len(mask_data_list)), replace=False)\n",
        "    selected_masks_intensity.extend([mask_data_list[idx]['intensity_raw'] for idx in selected_indices])\n",
        "\n",
        "    # Calculate average intensity and number of cells for each image\n",
        "    avg_intensity = np.mean([mask_data['intensity_raw'] for mask_data in mask_data_list])\n",
        "    num_masks = len(mask_data_list)\n",
        "    print(num_masks)\n",
        "    avg_intensity_per_mask = avg_intensity / num_masks\n",
        "\n",
        "    # Append data for each image to the all_images_data list\n",
        "    all_images_data.append({\n",
        "        \"filename\": other_image_filename,\n",
        "        \"avg_intensity\": avg_intensity,\n",
        "        \"num_cells\": num_masks,\n",
        "        \"avg_intensity_per_cell\": avg_intensity_per_mask\n",
        "    })\n",
        "\n",
        "    # Create a DataFrame from the cell data list for each image\n",
        "    data = pd.DataFrame(mask_data_list)\n",
        "\n",
        "    print(f\"Saving a dataframe/CSV file for each image\")\n",
        "    # Save the DataFrame as a CSV file for each image\n",
        "    csv_filename = os.path.join(output_folder, f\"{other_image_filename}_intensity_results.csv\")\n",
        "    data.to_csv(csv_filename, index=False)\n",
        "\n",
        "#print(f\"reversing the selected_cells_intensity list becasue sometimes Google Drive sorts the images backwards if this is not the case please comment this line out\")\n",
        "# Reverse the selected_cells_intensity list\n",
        "#selected_cells_intensity.reverse()\n",
        "\n",
        "# Create the CSV file for all cells with intensity and corresponding day\n",
        "mask_data = pd.DataFrame()\n",
        "for idx, intensity in enumerate(selected_cells_intensity):\n",
        "    mask_data = mask_data.append({\n",
        "        \"Cell ID\": idx + 1,\n",
        "        \"Intensity\": intensity,\n",
        "    }, ignore_index=True)\n",
        "mask_data.to_csv(os.path.join(output_folder, f'{random_masks_file_name}.csv'), index=False)"
      ]
    },
    {
      "cell_type": "markdown",
      "metadata": {
        "id": "oNHXFn4QY2YB"
      },
      "source": [
        "****\n",
        "You will need to change some variables in this code cell.\n",
        "\n",
        "*   You should change the labels of the scatter plots variable \"plt.scatter(np.zeros_like(selected_cells_intensity), selected_cells_intensity, label='Day 1', s=100)\" Change the \"label='Day 1'\" to your desire\n",
        "\n",
        "*   Next change the \"plt.xticks([0], ['Day 1'])\" to be your desired labels on the x-axis\n",
        "\n",
        "*   After, change the limit that is set on the y-axis \"plt.ylim(0, 3)\" right now the y-axis only goes from 0-3.\n",
        "\n",
        "*   Change the title of the graph \"plt.title('Title')\"\n",
        "\n",
        "*   Finally, change the name of the file. It is located in the code \"plt.savefig\". The part you should change is \"file_name.png\""
      ]
    },
    {
      "cell_type": "code",
      "execution_count": null,
      "metadata": {
        "id": "R_CfWMV-Yrzf"
      },
      "outputs": [],
      "source": [
        "import matplotlib.pyplot as plt\n",
        "plt.style.use(\"seaborn-whitegrid\")\n",
        "\n",
        "# Create scatterplot\n",
        "plt.figure(figsize=(10, 6))\n",
        "\n",
        "print(\"plotting the graph\")\n",
        "# Scatterplot for the section\n",
        "plt.scatter(np.zeros_like(selected_masks_intensity), selected_masks_intensity, label='Day 1', s=100)\n",
        "\n",
        "# Add mean lines for the section\n",
        "plt.axhline(y=np.mean(selected_masks_intensity), color='blue', linestyle='-', linewidth=2, label='Mean Day 1', xmin=0.05, xmax=0.3)\n",
        "\n",
        "# Set x-axis labels\n",
        "plt.xticks([0], ['Day 1'])\n",
        "\n",
        "# Set y-axis limit to 5\n",
        "plt.ylim(0, 3)\n",
        "\n",
        "# Add your own labels and title\n",
        "plt.xlabel('Timepoint (Days)')\n",
        "plt.ylabel('Intensity')\n",
        "plt.title('Title')\n",
        "\n",
        "# Show the legend\n",
        "plt.legend()\n",
        "\n",
        "# Create separate box plots for each day\n",
        "boxprops = dict(linestyle='-', linewidth=2, color='black')\n",
        "medianprops = dict(linestyle='-', linewidth=2, color='firebrick')\n",
        "\n",
        "# Boxplot for Day 1\n",
        "plt.boxplot(selected_masks_intensity, vert=True, positions=[0], boxprops=boxprops, medianprops=medianprops, showfliers=False, labels=['Day 1'])\n",
        "# Save the plot\n",
        "plt.savefig(os.path.join(output_folder, \"file_name_here.png\"))\n",
        "\n",
        "# Show the plot\n",
        "plt.show()"
      ]
    },
    {
      "cell_type": "markdown",
      "metadata": {
        "id": "qj5AIZ825o7P"
      },
      "source": [
        "##Saving the output to *_seg.npy prior to quality control\n",
        "\n",
        "You will see the files save in the folder which path you assigned to the output_folder variable."
      ]
    },
    {
      "cell_type": "code",
      "execution_count": null,
      "metadata": {
        "id": "qc7EWe_f5oEH"
      },
      "outputs": [],
      "source": [
        "import shutil\n",
        "\n",
        "io.masks_flows_to_seg(images, masks, flows, diameter * np.ones(len(masks)), files, [chan, chan2])\n",
        "\n",
        "# Get a list of the processed files in the input folder\n",
        "input_files = os.listdir(input_folder)\n",
        "\n",
        "# Move the files to the output folder in Google Drive\n",
        "for file in input_files:\n",
        "  if file.endswith(\"_seg.npy\"):\n",
        "            input_path = os.path.join(input_folder, file)\n",
        "            output_path = os.path.join(output_folder, file)\n",
        "            shutil.move(input_path, output_path)"
      ]
    },
    {
      "cell_type": "markdown",
      "metadata": {
        "id": "hwoUuuarC9V5"
      },
      "source": [
        "## Save output masks to tiffs (Optional)"
      ]
    },
    {
      "cell_type": "code",
      "execution_count": null,
      "metadata": {
        "id": "Da-Rtx09DEZB"
      },
      "outputs": [],
      "source": [
        "from cellpose import io\n",
        "\n",
        "# Assuming images, masks, flows, and files are your lists containing corresponding data\n",
        "# Save masks to disk\n",
        "io.save_masks(images,\n",
        "              masks,\n",
        "              flows,\n",
        "              files,\n",
        "              channels=[chan, chan2],\n",
        "              png=True, # save masks as PNGs and save example image\n",
        "              tif=True, # save masks as TIFFs\n",
        "              save_txt=True, # save txt outlines for ImageJ\n",
        "              save_flows=False, # save flows as TIFFs\n",
        "              save_outlines=False, # save outlines as TIFFs\n",
        "              )\n"
      ]
    },
    {
      "cell_type": "markdown",
      "metadata": {
        "id": "DH6A03dt0cQL"
      },
      "source": [
        "# 5. Quality Control\n",
        "\n",
        "This code cell removes any cells from the border of the images. As well as removes any cells with an area greater than or less than the area percentile of your choice."
      ]
    },
    {
      "cell_type": "code",
      "execution_count": null,
      "metadata": {
        "cellView": "form",
        "id": "3WDG8xC80b4j",
        "colab": {
          "base_uri": "https://localhost:8080/"
        },
        "outputId": "9dca8707-3503-4316-d50b-4b7f83d04a6e"
      },
      "outputs": [
        {
          "output_type": "stream",
          "name": "stdout",
          "text": [
            "Clearing the border of cells for each image\n",
            "Calculating the 20th and 80th percentiles of region areas\n",
            "Filtering out regions with area below lower and above upper\n",
            "Clearing the border of cells for each image\n",
            "Calculating the 20th and 80th percentiles of region areas\n",
            "Filtering out regions with area below lower and above upper\n",
            "Clearing the border of cells for each image\n",
            "Calculating the 20th and 80th percentiles of region areas\n",
            "Filtering out regions with area below lower and above upper\n",
            "Clearing the border of cells for each image\n",
            "Calculating the 20th and 80th percentiles of region areas\n",
            "Filtering out regions with area below lower and above upper\n",
            "Clearing the border of cells for each image\n",
            "Calculating the 20th and 80th percentiles of region areas\n",
            "Filtering out regions with area below lower and above upper\n",
            "Clearing the border of cells for each image\n",
            "Calculating the 20th and 80th percentiles of region areas\n",
            "Filtering out regions with area below lower and above upper\n",
            "Clearing the border of cells for each image\n",
            "Calculating the 20th and 80th percentiles of region areas\n",
            "Filtering out regions with area below lower and above upper\n",
            "Clearing the border of cells for each image\n",
            "Calculating the 20th and 80th percentiles of region areas\n",
            "Filtering out regions with area below lower and above upper\n"
          ]
        }
      ],
      "source": [
        "from skimage.segmentation import clear_border\n",
        "from skimage.measure import label, regionprops\n",
        "import numpy as np\n",
        "\n",
        "processed_images_qc = []\n",
        "#@markdown ##The range of allowed area in the dataset\n",
        "#@markdown #### First percentile (ex. keeps if cell's area > than 20% of the total area for all the cells)\n",
        "x1 = 20 #@param\n",
        "#@markdown #### Second percentile (ex. keeps if cell's area < than 80% of the total area for all the cells)\n",
        "x2 = 80 #@param\n",
        "# Iterate over the list of segmented images and masks.\n",
        "for image, mask in zip(processed_images, masks):\n",
        "\n",
        "    print(\"Clearing the border of cells for each image\")\n",
        "    # Clear the border of the image.\n",
        "    image_without_edge_cells = clear_border(image)\n",
        "\n",
        "    # Label connected components in the binary mask.\n",
        "    labeled_mask = label(mask)\n",
        "\n",
        "    # Get region properties (including area) for each labeled region.\n",
        "    regions = regionprops(labeled_mask)\n",
        "\n",
        "    # Check if there are any regions before calculating percentiles.\n",
        "    if regions:\n",
        "        print(\"Calculating the 20th and 80th percentiles of region areas\")\n",
        "        # Calculate the 10th and 90th percentiles of region areas.\n",
        "        areas = [region.area for region in regions]\n",
        "        q1 = np.percentile(areas, x1)\n",
        "        q3 = np.percentile(areas, x2)\n",
        "\n",
        "        print(\"Filtering out regions with area below lower and above upper\")\n",
        "        # Filter out regions with area below Q1 and above Q3.\n",
        "        filtered_regions = [region.label for region in regions if q1 <= region.area <= q3]\n",
        "\n",
        "        # Create a boolean mask indicating whether each region should be kept.\n",
        "        keep_mask = np.isin(labeled_mask, filtered_regions)\n",
        "\n",
        "        # Apply the boolean mask to the image.\n",
        "        image_without_outlier_cells = image_without_edge_cells * keep_mask\n",
        "\n",
        "        processed_images_qc.append(image_without_outlier_cells)\n",
        "    else:\n",
        "        # Handle the case when there are no regions in the labeled mask.\n",
        "        processed_images_qc.append(image_without_edge_cells)\n"
      ]
    },
    {
      "cell_type": "markdown",
      "metadata": {
        "id": "bfPOxBbxbGYM"
      },
      "source": [
        "### Overlapping Cells (Optional, will increase time)\n",
        "> Instructions for when to use this cell\n",
        "\n",
        "This code cell is specifically meant to remove overlapping cells. If you know that your images contain overlapping cells and wish to only utilize dispersed cell data then you should consider this cell."
      ]
    },
    {
      "cell_type": "code",
      "source": [
        "import numpy as np\n",
        "from skimage import measure\n",
        "\n",
        "def remove_touching_masks_and_relabel(processed_images):\n",
        "    cleaned_images = []\n",
        "\n",
        "    for image in processed_images:\n",
        "        #Labeling the image\n",
        "        labeled_image = measure.label(image, background=0)\n",
        "\n",
        "        # Finding all unique labels excluding the background\n",
        "        unique_labels = np.unique(labeled_image[labeled_image > 0])\n",
        "\n",
        "        # Prepare an image to store non-touching masks with new labels\n",
        "        non_touching_labeled_image = np.zeros_like(labeled_image)\n",
        "\n",
        "        # New label counter for non-touching masks\n",
        "        new_label = 1\n",
        "\n",
        "        for label in unique_labels:\n",
        "            # Extract the current object\n",
        "            current_mask = (labeled_image == label)\n",
        "\n",
        "            # Identify the border of the current object\n",
        "            border = measure.find_contours(current_mask, level=0.5)\n",
        "\n",
        "            #Checking if the border is touching another mask's border\n",
        "            touching = False\n",
        "            for contour in border:\n",
        "                for y, x in contour:\n",
        "                    # Adjusted to consider borders' direct adjacency to other masks\n",
        "                    adj_pixels = labeled_image[max(int(y)-1,0):int(y)+2, max(int(x)-1,0):int(x)+2]\n",
        "                    adj_labels = np.unique(adj_pixels)\n",
        "                    # If adjacent pixels contain different labels then classify it as touching another mask\n",
        "                    if len(adj_labels[adj_labels != label]) > 1:\n",
        "                        touching = True\n",
        "                        break\n",
        "                if touching:\n",
        "                    break\n",
        "\n",
        "            #If not touching, assign it to the new labeled image with a unique new label\n",
        "            if not touching:\n",
        "                non_touching_labeled_image[current_mask] = new_label\n",
        "                new_label += 1\n",
        "\n",
        "        #Apend the new processed Image\n",
        "        cleaned_images.append(non_touching_labeled_image)\n",
        "\n",
        "    return cleaned_images\n",
        "cleaned_images = remove_touching_masks_and_relabel(processed_images_qc)"
      ],
      "metadata": {
        "id": "lTbgbjbmb_0V"
      },
      "execution_count": 7,
      "outputs": []
    },
    {
      "cell_type": "markdown",
      "metadata": {
        "id": "wTN0yKMkYPf0"
      },
      "source": [
        "# 6. Quantification of Intensity With Quality Control"
      ]
    },
    {
      "cell_type": "code",
      "execution_count": null,
      "metadata": {
        "id": "g7685PQd1QQi"
      },
      "outputs": [],
      "source": [
        "import os\n",
        "import pandas as pd\n",
        "import numpy as np\n",
        "from skimage import io\n",
        "\n",
        "#@markdown ####Path to the folder containing new channel images\n",
        "images_path = \"/content/gdrive/MyDrive/colab_test/Green\" #@param\n",
        "\n",
        "# Initialize an empty list to store data for all images\n",
        "all_images_data = []\n",
        "\n",
        "print(\"Iterate through each green channel image and its corresponding processed masks\")\n",
        "# Iterate through each green channel image and its corresponding processed masks\n",
        "for other_image_filename, masks in zip(os.listdir(images_path), cleaned_images):\n",
        "    other_image_path = os.path.join(images_path, other_image_filename)\n",
        "    other_image = io.imread(other_image_path)\n",
        "\n",
        "    # Initialize an empty list to store cell data for each image\n",
        "    mask_data_list = []\n",
        "\n",
        "    for mask_number in np.unique(masks):\n",
        "      if mask_number !=0\n",
        "        mean_intensity_without_background = np.mean(other_image[masks == mask_number])\n",
        "\n",
        "        # Append to the cell_data_list for each image\n",
        "        mask_data_list.append({\n",
        "            \"Cell ID\": f\"{mask_number}\",\n",
        "            \"intensity_raw\": mean_intensity_without_background\n",
        "        })\n",
        "\n",
        "    # Calculate average intensity and number of cells for each image\n",
        "    avg_intensity = np.mean([mask_data['intensity_raw'] for mask_data in mask_data_list])\n",
        "    num_masks = len(mask_data_list)\n",
        "    print(num_masks)\n",
        "    avg_intensity_per_mask = avg_intensity / num_masks\n",
        "\n",
        "    # Append data for each image to the all_images_data list\n",
        "    all_images_data.append({\n",
        "        \"filename\": green_image_filename,\n",
        "        \"avg_intensity\": avg_intensity,\n",
        "        \"num_cells\": num_cells,\n",
        "        \"avg_intensity_per_cell\": avg_intensity_per_cell\n",
        "    })\n",
        "\n",
        "    # Create a DataFrame from the cell data list for each image\n",
        "    data = pd.DataFrame(mask_data_list)\n",
        "\n",
        "    # Save the DataFrame as a CSV file for each image\n",
        "    csv_filename = os.path.join(output_folder, f\"{other_image_filename}_intensity_results.csv\")\n",
        "    data.to_csv(csv_filename, index=False)\n",
        "\n",
        "# Create a DataFrame for all images and save it as a single CSV file\n",
        "all_images_df = pd.DataFrame(all_images_data)\n",
        "all_images_csv_filename = os.path.join(output_folder, \"qc_all_images_intensity_results.csv\")\n",
        "all_images_df.to_csv(all_images_csv_filename, index=False)\n"
      ]
    },
    {
      "cell_type": "code",
      "execution_count": null,
      "metadata": {
        "id": "-6NhHswRUay-"
      },
      "outputs": [],
      "source": [
        "plt.figure(figsize=(10, 6))\n",
        "plt.scatter(np.zeros_like(data['intensity_raw']), data['intensity_raw'], label='Day 1', s=100)\n",
        "\n",
        "# Find the mean line for the section\n",
        "mean_intensity = np.mean(data['intensity_raw'])\n",
        "plt.axhline(y=mean_intensity, color='blue', linestyle='-', linewidth=2, label='Mean Day 1', xmin=0.05, xmax=0.3)\n",
        "# Set x-axis labels\n",
        "plt.xticks([0], ['Day 1'])\n",
        "\n",
        "# Set y-axis limit\n",
        "plt.ylim(0, 3)\n",
        "\n",
        "# Add your own labels and title\n",
        "plt.xlabel('Timepoint (Days)')\n",
        "plt.ylabel('Intensity')\n",
        "plt.title('Title')\n",
        "\n",
        "plt.legend()\n",
        "\n",
        "#Save the plot for each image\n",
        "plt.savefig(os.path.join(output_folder, \"title.png\"))\n",
        "\n",
        "# Show the plot\n",
        "plt.show()"
      ]
    },
    {
      "cell_type": "markdown",
      "metadata": {
        "id": "DwQSoYqpfRxQ"
      },
      "source": [
        "Finding the intensity of the masks on other images with background subtraction."
      ]
    },
    {
      "cell_type": "code",
      "execution_count": null,
      "metadata": {
        "cellView": "form",
        "id": "Iq6kjFyZZJqg"
      },
      "outputs": [],
      "source": [
        "import os\n",
        "import numpy as np\n",
        "import pandas as pd\n",
        "from skimage import io\n",
        "import matplotlib.pyplot as plt\n",
        "\n",
        "#@markdown ###Path to the folder containing other channel images\n",
        "other_channel_folder = \"/content/gdrive/MyDrive/colab_test/testingLOL\" #@param\n",
        "\n",
        "#@markdown ###File name for randomly selected csv file (Do not put .csv)\n",
        "qc_csv_file_name = \"qc_here\"#@param\n",
        "# Initialize an empty list to store data for all images\n",
        "all_images_data = []\n",
        "selected_masks_intensity = []\n",
        "print(\"Iterate through each green channel image and its corresponding processed masks\")\n",
        "# Iterate through each channel's image and its corresponding processed masks\n",
        "for other_image_filename, masks in zip(os.listdir(other_channel_folder), cleaned_images):\n",
        "    other_image_path = os.path.join(other_channel_folder, other_image_filename)\n",
        "    other_image = io.imread(other_image_path)\n",
        "\n",
        "    # Initialize an empty list to store cell data for each image\n",
        "    mask_data_list = []\n",
        "\n",
        "    for mask_number in np.unique(masks):\n",
        "      if mask_number != 0:\n",
        "\n",
        "        # Calculate the mean intensity of the cell without the background\n",
        "        mean_intensity_without_background = np.mean(other_image[masks == mask_number])\n",
        "\n",
        "        # Append to the cell_data_list for each image\n",
        "        mask_data_list.append({\n",
        "            \"Cell ID\": f\"{mask_number}\",\n",
        "            \"intensity_raw\": mean_intensity_without_background\n",
        "        })\n",
        "\n",
        "    #@markdown ####Randomly select n number of masks per image\n",
        "    num_masks_per_image = 27 #@param\n",
        "    print(f\"Number of masks per image: {num_masks_per_image}\")\n",
        "    # Use the previously calculated intensity values for selected masks\n",
        "    selected_indices = np.random.choice(len(mask_data_list), size=min(num_masks_per_image, len(mask_data_list)), replace=False)\n",
        "    selected_masks_intensity.extend([mask_data_list[idx]['intensity_raw'] for idx in selected_indices])\n",
        "\n",
        "    # Calculate average intensity and number of masks for each image\n",
        "    avg_intensity = np.mean([mask_data['intensity_raw'] for mask_data in mask_data_list])\n",
        "    num_masks = len(mask_data_list)\n",
        "    print(num_masks)\n",
        "    avg_intensity_per_mask = avg_intensity / num_masks\n",
        "\n",
        "    # Append data for each image to the all_images_data list\n",
        "    all_images_data.append({\n",
        "        \"filename\": other_image_filename,\n",
        "        \"avg_intensity\": avg_intensity,\n",
        "        \"num_cells\": num_masks,\n",
        "        \"avg_intensity_per_cell\": avg_intensity_per_mask\n",
        "    })\n",
        "\n",
        "    # Create a DataFrame from the mask data list for each image\n",
        "    data = pd.DataFrame(mask_data_list)\n",
        "\n",
        "    # Save the DataFrame as a CSV file for each image\n",
        "    csv_filename = os.path.join(output_folder, f\"{other_image_filename}_intensity_results.csv\")\n",
        "    data.to_csv(csv_filename, index=False)\n",
        "#print(f\"reversing the selected_cells_intensity list becasue sometimes Google Drive sorts the images backwards if this is not the case please comment this line out\")\n",
        "# Reverse the selected_cells_intensity list\n",
        "#selected_cells_intensity.reverse()\n",
        "\n",
        "# Create the CSV file for all cells with intensity and corresponding day\n",
        "mask_data = pd.DataFrame()\n",
        "print(\"creating the csv file containing the randomly selected cells and their intensities\")\n",
        "for idx, intensity in enumerate(selected_masks_intensity):\n",
        "    mask_data = mask_data.append({\n",
        "        \"Cell ID\": idx + 1,\n",
        "        \"Intensity\": intensity,\n",
        "    }, ignore_index=True)\n",
        "mask_data.to_csv(os.path.join(output_folder, f'{qc_csv_file_name}.csv'), index=False)"
      ]
    },
    {
      "cell_type": "markdown",
      "metadata": {
        "id": "KWBNxLccRCaA"
      },
      "source": [
        "****\n",
        "You will need to change some variables in this code cell.\n",
        "\n",
        "*   You should change the labels of the scatter plots variable \"plt.scatter(np.zeros_like(selected_masks_intensity), selected_cells_intensity, label='Day 1', s=100)\" Change the \"label='Day 1'\" to your desire\n",
        "\n",
        "*   Next change the \"plt.xticks([0], ['Day 1'])\" to be your desired labels on the x-axis\n",
        "\n",
        "*   After, change the limit that is set on the y-axis \"plt.ylim(0, 3)\" right now the y-axis only goes from 0-3.\n",
        "\n",
        "*   Change the title of the graph \"plt.title('Title')\"\n",
        "\n",
        "*   Finally, change the name of the file. It is located in the code \"plt.savefig\". The part you should change is \"file_name.png\""
      ]
    },
    {
      "cell_type": "code",
      "execution_count": null,
      "metadata": {
        "id": "_vlU1ma_OCEd",
        "colab": {
          "base_uri": "https://localhost:8080/",
          "height": 1000
        },
        "outputId": "4bc9059e-1cf9-4e07-9d95-11eb3d7469af"
      },
      "outputs": [
        {
          "output_type": "stream",
          "name": "stderr",
          "text": [
            "<ipython-input-9-7e0de63b5a0a>:2: MatplotlibDeprecationWarning: The seaborn styles shipped by Matplotlib are deprecated since 3.6, as they no longer correspond to the styles shipped by seaborn. However, they will remain available as 'seaborn-v0_8-<style>'. Alternatively, directly use the seaborn API instead.\n",
            "  plt.style.use(\"seaborn-whitegrid\")\n"
          ]
        },
        {
          "output_type": "stream",
          "name": "stdout",
          "text": [
            "Starting the plots for each section\n",
            "Finding the mean lines for each section/day\n",
            "Plotting the boxplot for each section\n"
          ]
        },
        {
          "output_type": "display_data",
          "data": {
            "text/plain": [
              "<Figure size 1000x600 with 1 Axes>"
            ],
            "image/png": "[encoded data removed]"
          },
          "metadata": {}
        }
      ],
      "source": [
        "# Set the style (optional)\n",
        "plt.style.use(\"seaborn-whitegrid\")\n",
        "\n",
        "# Create scatterplot\n",
        "plt.figure(figsize=(10, 6))\n",
        "\n",
        "print(\"Starting the plots for each section\")\n",
        "# Scatterplot for Day 1\n",
        "plt.scatter(np.zeros_like(selected_masks_intensity), selected_masks_intensity, label='Day 1', s=100)\n",
        "\n",
        "print(\"Finding the mean lines for each section/day\")\n",
        "# Add mean lines for the section\n",
        "plt.axhline(y=np.mean(selected_masks_intensity), color='blue', linestyle='-', linewidth=2, label='Mean Day 1', xmin=0.4, xmax=0.6)\n",
        "\n",
        "# Set x-axis labels\n",
        "plt.xticks([0], ['Day 1'])\n",
        "\n",
        "# Set y-axis limit to 3\n",
        "plt.ylim(0, 3)\n",
        "\n",
        "# Add labels and title\n",
        "plt.xlabel('Timepoint (Days)')\n",
        "plt.ylabel('Intensity')\n",
        "plt.title('Title')\n",
        "\n",
        "plt.legend()\n",
        "\n",
        "# Create separate box plots for each day\n",
        "boxprops = dict(linestyle='-', linewidth=2, color='black')\n",
        "medianprops = dict(linestyle='-', linewidth=2, color='firebrick')\n",
        "\n",
        "print(\"Plotting the boxplot for each section\")\n",
        "# Boxplot for Day 1\n",
        "plt.boxplot(selected_masks_intensity, vert=True, positions=[0], boxprops=boxprops, medianprops=medianprops, showfliers=False, labels=['Day 1'])\n",
        "\n",
        "# Save the plot\n",
        "plt.savefig(os.path.join(output_folder, \"qc_fileName.png\"))\n",
        "\n",
        "# Show the plot\n",
        "plt.show()\n"
      ]
    },
    {
      "cell_type": "code",
      "execution_count": null,
      "metadata": {
        "cellView": "form",
        "id": "fSMPWADA2Ckt"
      },
      "outputs": [],
      "source": [
        "#@markdown #####If you would like to save a csv file containing the morphology data of each image run this code cell.\n",
        "\n",
        "# Change the current working directory to the output folder\n",
        "os.chdir(output_folder2)  # Make sure 'output_folder' points to the desired directory\n",
        "morphology_data1 = []\n",
        "for i, image_filename in enumerate(files):\n",
        "\n",
        "    # Assuming that \"processed_images\" contains the processed masks\n",
        "    segmented_image1 = processed_images_qc[i]\n",
        "\n",
        "    labeled_cells1 = label(segmented_image1)\n",
        "\n",
        "    for region in regionprops(labeled_cells1):\n",
        "        cell_id2 = region.label\n",
        "        area2 = region.area\n",
        "        perimeter2 = region.perimeter\n",
        "        crofton_perimeter2 = region.perimeter_crofton\n",
        "        eccentricity2 = region.eccentricity\n",
        "        centroid2 = region.centroid\n",
        "\n",
        "        x_centroid2, y_centroid2 = centroid2\n",
        "\n",
        "        morphology_data1.append({\n",
        "            'Image File': image_filename,\n",
        "            'Cell ID': cell_id2,\n",
        "            'Area': area2,\n",
        "            'Perimeter': perimeter2,\n",
        "            'Crofton Perimeter': crofton_perimeter2,\n",
        "            'Eccentricity': eccentricity2,\n",
        "            'Centroid X': x_centroid2,\n",
        "            'Centroid Y': y_centroid2,\n",
        "          })\n"
      ]
    },
    {
      "cell_type": "markdown",
      "metadata": {
        "id": "ibbom-z4Wqwf"
      },
      "source": [
        "# Graphing for Average Intensity of Each Image\n",
        "This cell takes the average intensity of each image and outputs a graph showing the distribution of average intensity for each image from each day. This is different from the cell above because it focuses on the image as a whole and not individual cells.\n",
        "****\n",
        "To set this cell up you need to go to your output folder(s) and find the csv files for all of your set of images that say \"all_images_intensity_results.csv\" or \"qc_all_images_intensity_results.csv\". This just depends whether you did with quality control or not (the qc at the beginning of the file name indicates you did quality control)."
      ]
    },
    {
      "cell_type": "code",
      "execution_count": null,
      "metadata": {
        "cellView": "form",
        "id": "uiTLXUvPWnwg"
      },
      "outputs": [],
      "source": [
        "import pandas as pd\n",
        "import matplotlib.pyplot as plt\n",
        "\n",
        "#@markdown ####Path to folder containing csv files\n",
        "# Specify the path to your CSV files\n",
        "path_file1 = '/content/gdrive/MyDrive/colab_test/HS_09_p2_A2_results/qc_all_images_intensity_results.csv' #@param\n",
        "path_file2 = '/content/gdrive/MyDrive/colab_test/HS_09_p3_A2_results/qc_all_images_intensity_results.csv' #@param\n",
        "path_file3 = '/content/gdrive/MyDrive/colab_test/Well_A2_results/qc_all_images_intensity_results.csv' #@param\n",
        "\n",
        "print(\"Reading the csv files\")\n",
        "\n",
        "# Read data from CSV files\n",
        "df1 = pd.read_csv(path_file1)\n",
        "df2 = pd.read_csv(path_file2)\n",
        "df3 = pd.read_csv(path_file3)\n",
        "\n",
        "# Set the style (optional)\n",
        "plt.style.use(\"seaborn-whitegrid\")\n",
        "\n",
        "# Create scatterplot\n",
        "plt.figure(figsize=(10, 6))\n",
        "\n",
        "print(\"Plotting the scatterplots on the graph\")\n",
        "# Scatterplot for p2\n",
        "plt.scatter([0] * len(df1), df1['avg_intensity'], label='p2', s=100)\n",
        "\n",
        "# Scatterplot for p3\n",
        "plt.scatter([1] * len(df2), df2['avg_intensity'], label='p3', s=100)\n",
        "\n",
        "# Scatterplot for p1 (df3)\n",
        "plt.scatter([2] * len(df3), df3['avg_intensity'], label='p1', s=100)\n",
        "\n",
        "# Set x-axis labels\n",
        "plt.xticks([0, 1, 2], ['Day 1', 'Day 2', 'Day 4'])\n",
        "\n",
        "print(\"Plotting the mean lines on the graph\")\n",
        "# Plot dashed lines for mean of each group\n",
        "plt.axhline(y=df1['avg_intensity'].mean(), linestyle='--', color='blue', label='Mean p2')\n",
        "plt.axhline(y=df2['avg_intensity'].mean(), linestyle='--', color='orange', label='Mean p3')\n",
        "plt.axhline(y=df3['avg_intensity'].mean(), linestyle='--', color='green', label='Mean p1')\n",
        "\n",
        "# Add labels and title\n",
        "plt.xlabel('X-Axis Labels')\n",
        "plt.ylabel('Average Intensity')\n",
        "plt.title('Scatterplot of Average Intensity Data')\n",
        "\n",
        "# Show the legend\n",
        "plt.legend()\n",
        "\n",
        "plt.savefig(f'{output_folder}/scatter_plot_all_images.png')\n",
        "\n",
        "# Show the plot\n",
        "plt.show()\n"
      ]
    },
    {
      "cell_type": "markdown",
      "metadata": {
        "id": "n04SDHYKzXel"
      },
      "source": [
        "###Metrics\n",
        "This code cell uses skimage's regionprops to create a csv file that contains metrics for each cell. If you did not run the quality control code cell then change ``` for image, mask, file_path in zip(images, processed_images_qc, files): ```\n",
        "to\n",
        "``` for image, mask, file_path in zip(images, processed_images, files): ```\n",
        "\n"
      ]
    },
    {
      "cell_type": "code",
      "execution_count": null,
      "metadata": {
        "colab": {
          "base_uri": "https://localhost:8080/"
        },
        "id": "Am8cIfscyeHY",
        "outputId": "c1c107e4-b347-448a-99bb-5e0f3d4470b0"
      },
      "outputs": [
        {
          "output_type": "stream",
          "name": "stdout",
          "text": [
            "Region properties saved to /content/gdrive/MyDrive/colab_test/Well_A3_Output/metrics_qc.csv\n"
          ]
        }
      ],
      "source": [
        "import pandas as pd\n",
        "import os\n",
        "from skimage.measure import regionprops_table\n",
        "\n",
        "#@markdown ####File name for the metrics dataset (Do NOT put .csv in this)\n",
        "metrics_file_name = 'metrics_qc' #@param {type:\"string\"}\n",
        "\n",
        "# Create a list for region properties of all cells\n",
        "all_region_props = []\n",
        "\n",
        "# Iterate through the processed masks\n",
        "for mask, file_path in zip(processed_images_qc, files):\n",
        "    # Get region properties for each cell in the mask\n",
        "    region_props = regionprops_table(mask, properties=('label', 'centroid', 'area', 'eccentricity', 'perimeter'))\n",
        "\n",
        "    # Add image index column to region properties\n",
        "    image_index = os.path.basename(file_path)\n",
        "    num_cells = len(region_props['label'])\n",
        "    region_props['Image Index'] = [image_index] * num_cells\n",
        "\n",
        "    # Append region properties to the list\n",
        "    all_region_props.append(pd.DataFrame(region_props))  # Convert dict to DataFrame\n",
        "\n",
        "# Concatenate all region properties into a single DataFrame\n",
        "region_props_df = pd.concat(all_region_props, ignore_index=True)\n",
        "\n",
        "# Save region properties to CSV file\n",
        "csv_file_path = os.path.join(output_folder, f'{metrics_file_name}.csv')\n",
        "region_props_df.to_csv(csv_file_path, index=False)\n",
        "print(f\"Region properties saved to {csv_file_path}\")\n"
      ]
    },
    {
      "cell_type": "markdown",
      "source": [],
      "metadata": {
        "id": "96reNNZthU9i"
      }
    },
    {
      "cell_type": "code",
      "execution_count": null,
      "metadata": {
        "cellView": "form",
        "id": "Y59BBVlShPVY"
      },
      "outputs": [],
      "source": [
        "from ipywidgets import interact, widgets\n",
        "import IPython.display as display\n",
        "import seaborn as sns\n",
        "#@markdown ####Path to folder containing csv files\n",
        "use_folder = \"/content/gdrive/MyDrive/colab_test/Well_A2_results/graph\" #@param\n",
        "\n",
        "#@markdown ####Choose the data that you wish to measure\n",
        "Data_measured = \"Area\" #@param [\"Area\", \"Perimeter\", \"Eccentricity\"]\n",
        "\n",
        "images_file_names = [os.path.join(input_folder, file) for file in os.listdir(input_folder) if file.endswith('.tif')]\n",
        "\n",
        "csv_files = [pd.read_csv(os.path.join(use_folder, file)) for file in os.listdir(use_folder) if file.endswith('_morphology.csv')]\n",
        "\n",
        "image_index = 0\n",
        "\n",
        "def display_histogram(image_index, data_type):\n",
        "    # Load data for the selected image and calculate the histogram\n",
        "    selected_image_data = csv_files[image_index]\n",
        "\n",
        "    if data_type == \"Area\":\n",
        "        data_values = selected_image_data['Area']\n",
        "        data_label = 'Area'\n",
        "    elif data_type == \"Perimeter\":\n",
        "        data_values = selected_image_data['Perimeter']\n",
        "        data_label = 'Perimeter'\n",
        "    elif data_type == \"Eccentricity\":\n",
        "        data_values = selected_image_data['Eccentricity']\n",
        "        data_label = 'Eccentricity'\n",
        "\n",
        "    Q1 = data_values.quantile(0.10)\n",
        "    Q3 = data_values.quantile(0.90)\n",
        "    IQR = Q3 - Q1\n",
        "    lower_bound = Q1 - 1.5 * IQR\n",
        "    upper_bound = Q3 + 1.5 * IQR\n",
        "\n",
        "    # Clear the previous output\n",
        "    display.clear_output(wait=True)\n",
        "\n",
        "    plt.figure(figsize=(10, 6))\n",
        "    sns.histplot(data_values, kde=True, bins=30)\n",
        "    plt.axvline(Q1, color='r', linestyle='--', label='Q1 (25th quantile)')\n",
        "    plt.axvline(data_values.median(), color='g', linestyle='-', label='Median (50th quantile)')\n",
        "    plt.axvline(Q3, color='b', linestyle='--', label='Q3 (75th quantile)')\n",
        "    plt.axvline(lower_bound, color='red', linestyle='dashed', linewidth=2, label=f\"Lower Bound: {lower_bound:.2f}\")\n",
        "    plt.axvline(upper_bound, color='green', linestyle='dashed', linewidth=2, label=f\"Upper Bound: {upper_bound:.2f}\")\n",
        "    plt.legend()\n",
        "    plt.title(f'Histogram of {data_label} for {os.path.basename(images_file_names[image_index])}')\n",
        "    plt.xlabel(data_label)\n",
        "    plt.ylabel('Frequency')\n",
        "    plt.grid(True)\n",
        "    plt.show()\n",
        "\n",
        "# Create dropdown widgets for image selection and data type selection\n",
        "image_selector = widgets.Dropdown(options=[(os.path.basename(image), i) for i, image in enumerate(images_file_names)])\n",
        "data_selector = widgets.Dropdown(options=[\"Area\", \"Perimeter\", \"Eccentricity\"], value=Data_measured, description='Data Type')\n",
        "\n",
        "# Use the interact function to link the widgets and the display function\n",
        "interact(display_histogram, image_index=image_selector, data_type=data_selector)\n"
      ]
    },
    {
      "cell_type": "markdown",
      "metadata": {
        "id": "ZjpxHpVtF9dh"
      },
      "source": [
        "#Viewing Your Processed Images\n",
        "If you do not already have a software capable of allowing you to view your images I have provided a website. I would recommend to view your processed images at https://ij.imjoy.io/.\n",
        "\n",
        "I have also provided below the ability to view the processed images. There is a widget that has a drop down menu with a list of all of your files, so just select which one you would like view. **If the image is too small I would recommend changing the axes sizes.**"
      ]
    },
    {
      "cell_type": "code",
      "execution_count": 8,
      "metadata": {
        "colab": {
          "base_uri": "https://localhost:8080/",
          "height": 1000,
          "referenced_widgets": [
            "9f4bcb7805f648878bc43fa4058014a8",
            "86e9049034cf4f8c9cc2aec8d49d081d",
            "59c9c9ca82d84c3fafae53b851a0818a",
            "94d314b00751467097b9c2278e18e8e3",
            "eb616a800b38491985f00fd67079bdf9",
            "2081e612c79d453885f02f4e7ee6e353",
            "c38674a7ab7944e69d431bb019347c83"
          ]
        },
        "id": "6obhzRZPwlLA",
        "outputId": "3e3a276f-d1a3-4c70-d442-44b2330759d4",
        "cellView": "form"
      },
      "outputs": [
        {
          "output_type": "display_data",
          "data": {
            "text/plain": [
              "interactive(children=(Dropdown(description='image_index', options=(('Copy of Copy of 20230930_164848_489__Well…"
            ],
            "application/vnd.jupyter.widget-view+json": {
              "version_major": 2,
              "version_minor": 0,
              "model_id": "9f4bcb7805f648878bc43fa4058014a8"
            }
          },
          "metadata": {}
        },
        {
          "output_type": "execute_result",
          "data": {
            "text/plain": [
              "<function __main__.display_selected_image(image_index)>"
            ],
            "text/html": [
              "<div style=\"max-width:800px; border: 1px solid var(--colab-border-color);\"><style>\n",
              "      pre.function-repr-contents {\n",
              "        overflow-x: auto;\n",
              "        padding: 8px 12px;\n",
              "        max-height: 500px;\n",
              "      }\n",
              "\n",
              "      pre.function-repr-contents.function-repr-contents-collapsed {\n",
              "        cursor: pointer;\n",
              "        max-height: 100px;\n",
              "      }\n",
              "    </style>\n",
              "    <pre style=\"white-space: initial; background:\n",
              "         var(--colab-secondary-surface-color); padding: 8px 12px;\n",
              "         border-bottom: 1px solid var(--colab-border-color);\"><b>display_selected_image</b><br/>def display_selected_image(image_index)</pre><pre class=\"function-repr-contents function-repr-contents-collapsed\" style=\"\"><a class=\"filepath\" style=\"display:none\" href=\"#\">/content/&lt;ipython-input-8-c32c44cdbde5&gt;</a>&lt;no docstring&gt;</pre></div>"
            ]
          },
          "metadata": {},
          "execution_count": 8
        }
      ],
      "source": [
        "#@markdown ###This displays the masks of each image and quality control masks\n",
        "#I chose these libraries because they give the user the ability to select which widget they want to display\n",
        "from ipywidgets import interact, widgets\n",
        "import IPython.display as display\n",
        "\n",
        "image_index = 0\n",
        "image_files = [os.path.join(input_folder, file) for file in os.listdir(input_folder) if file.endswith('.tif')]\n",
        "\n",
        "def display_selected_image(image_index):\n",
        "    img = processed_images[image_index]\n",
        "    img2 = cleaned_images[image_index]\n",
        "\n",
        "    plt.figure(figsize=(10, 8)) # This is where you change the size of each axis\n",
        "    plt.imshow(img)\n",
        "    plt.axis('on')\n",
        "    plt.title(image_files[image_index])\n",
        "    plt.show()\n",
        "\n",
        "    display.display(\"This is the processed image after quality control\")\n",
        "    plt.figure(figsize=(10, 8)) # This is where you change the size of each axis\n",
        "    plt.imshow(img2)\n",
        "    plt.axis('on')\n",
        "    plt.title(image_files[image_index])\n",
        "    plt.show()\n",
        "\n",
        "\n",
        "# Create a dropdown widget to select the image\n",
        "image_selector = widgets.Dropdown(options =[(os.path.basename(image_files[i]), i) for i in range(len(image_files))])\n",
        "\n",
        "# Use the interact function to link the widget and the display function\n",
        "interact(display_selected_image, image_index = image_selector)"
      ]
    },
    {
      "cell_type": "markdown",
      "metadata": {
        "id": "iiMYmS1gP1Cs"
      },
      "source": [
        "##Feedback\n",
        "If you have an recommendations/questions regarding this notebook please fill out the google form. I will try my best to add your suggestions to this notebook.\n",
        "[Feedback form!](https://forms.gle/HoiBGUbKghqy3m9w9)\n"
      ]
    }
  ],
  "metadata": {
    "accelerator": "GPU",
    "colab": {
      "machine_shape": "hm",
      "provenance": [],
      "gpuType": "T4"
    },
    "kernelspec": {
      "display_name": "Python 3",
      "name": "python3"
    },
    "language_info": {
      "codemirror_mode": {
        "name": "ipython",
        "version": 3
      },
      "file_extension": ".py",
      "mimetype": "text/x-python",
      "name": "python",
      "nbconvert_exporter": "python",
      "pygments_lexer": "ipython3",
      "version": "3.8.10"
    },
    "widgets": {
      "application/vnd.jupyter.widget-state+json": {
        "9f4bcb7805f648878bc43fa4058014a8": {
          "model_module": "@jupyter-widgets/controls",
          "model_name": "VBoxModel",
          "model_module_version": "1.5.0",
          "state": {
            "_dom_classes": [
              "widget-interact"
            ],
            "_model_module": "@jupyter-widgets/controls",
            "_model_module_version": "1.5.0",
            "_model_name": "VBoxModel",
            "_view_count": null,
            "_view_module": "@jupyter-widgets/controls",
            "_view_module_version": "1.5.0",
            "_view_name": "VBoxView",
            "box_style": "",
            "children": [
              "IPY_MODEL_86e9049034cf4f8c9cc2aec8d49d081d",
              "IPY_MODEL_59c9c9ca82d84c3fafae53b851a0818a"
            ],
            "layout": "IPY_MODEL_94d314b00751467097b9c2278e18e8e3"
          }
        },
        "86e9049034cf4f8c9cc2aec8d49d081d": {
          "model_module": "@jupyter-widgets/controls",
          "model_name": "DropdownModel",
          "model_module_version": "1.5.0",
          "state": {
            "_dom_classes": [],
            "_model_module": "@jupyter-widgets/controls",
            "_model_module_version": "1.5.0",
            "_model_name": "DropdownModel",
            "_options_labels": [
              "Copy of Copy of 20230930_164848_489__WellA2_ChannelCamera - Blue,Camera - Transmission,Camera - Green,Camera - Gold_Seq0001_A2_0034_Camera - Green.tif",
              "Copy of Copy of 20230930_164848_489__WellA2_ChannelCamera - Blue,Camera - Transmission,Camera - Green,Camera - Gold_Seq0001_A2_0033_Camera - Green.tif",
              "Copy of Copy of 20230930_164848_489__WellA2_ChannelCamera - Blue,Camera - Transmission,Camera - Green,Camera - Gold_Seq0001_A2_0035_Camera - Green.tif",
              "Copy of Copy of 20230930_161325_546__WellA2_ChannelCamera - Blue,Camera - Transmission,Camera - Green,Camera - Gold_Seq0001_A2_0008_Camera - Green.tif",
              "Copy of Copy of 20230930_161325_546__WellA2_ChannelCamera - Blue,Camera - Transmission,Camera - Green,Camera - Gold_Seq0001_A2_0009_Camera - Green.tif",
              "Copy of Copy of 20230930_161325_546__WellA2_ChannelCamera - Blue,Camera - Transmission,Camera - Green,Camera - Gold_Seq0001_A2_0000_Camera - Green.tif",
              "Copy of Copy of 20230930_161325_546__WellA2_ChannelCamera - Blue,Camera - Transmission,Camera - Green,Camera - Gold_Seq0001_A2_0007_Camera - Green.tif",
              "Copy of 20230930_164848_489__WellA1_ChannelCamera - Blue,Camera - Transmission,Camera - Green,Camera - Gold_Seq0000_A1_0017_Camera - Green.tif"
            ],
            "_view_count": null,
            "_view_module": "@jupyter-widgets/controls",
            "_view_module_version": "1.5.0",
            "_view_name": "DropdownView",
            "description": "image_index",
            "description_tooltip": null,
            "disabled": false,
            "index": 1,
            "layout": "IPY_MODEL_eb616a800b38491985f00fd67079bdf9",
            "style": "IPY_MODEL_2081e612c79d453885f02f4e7ee6e353"
          }
        },
        "59c9c9ca82d84c3fafae53b851a0818a": {
          "model_module": "@jupyter-widgets/output",
          "model_name": "OutputModel",
          "model_module_version": "1.0.0",
          "state": {
            "_dom_classes": [],
            "_model_module": "@jupyter-widgets/output",
            "_model_module_version": "1.0.0",
            "_model_name": "OutputModel",
            "_view_count": null,
            "_view_module": "@jupyter-widgets/output",
            "_view_module_version": "1.0.0",
            "_view_name": "OutputView",
            "layout": "IPY_MODEL_c38674a7ab7944e69d431bb019347c83",
            "msg_id": "",
            "outputs": [
              {
                "output_type": "display_data",
                "data": {
                  "text/plain": "<Figure size 1000x800 with 1 Axes>",
                  "image/png": "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\n"
                },
                "metadata": {}
              },
              {
                "output_type": "display_data",
                "data": {
                  "text/plain": "'This is the processed image after quality control'",
                  "application/vnd.google.colaboratory.intrinsic+json": {
                    "type": "string"
                  }
                },
                "metadata": {}
              },
              {
                "output_type": "display_data",
                "data": {
                  "text/plain": "<Figure size 1000x800 with 1 Axes>",
                  "image/png": "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\n"
                },
                "metadata": {}
              }
            ]
          }
        },
        "94d314b00751467097b9c2278e18e8e3": {
          "model_module": "@jupyter-widgets/base",
          "model_name": "LayoutModel",
          "model_module_version": "1.2.0",
          "state": {
            "_model_module": "@jupyter-widgets/base",
            "_model_module_version": "1.2.0",
            "_model_name": "LayoutModel",
            "_view_count": null,
            "_view_module": "@jupyter-widgets/base",
            "_view_module_version": "1.2.0",
            "_view_name": "LayoutView",
            "align_content": null,
            "align_items": null,
            "align_self": null,
            "border": null,
            "bottom": null,
            "display": null,
            "flex": null,
            "flex_flow": null,
            "grid_area": null,
            "grid_auto_columns": null,
            "grid_auto_flow": null,
            "grid_auto_rows": null,
            "grid_column": null,
            "grid_gap": null,
            "grid_row": null,
            "grid_template_areas": null,
            "grid_template_columns": null,
            "grid_template_rows": null,
            "height": null,
            "justify_content": null,
            "justify_items": null,
            "left": null,
            "margin": null,
            "max_height": null,
            "max_width": null,
            "min_height": null,
            "min_width": null,
            "object_fit": null,
            "object_position": null,
            "order": null,
            "overflow": null,
            "overflow_x": null,
            "overflow_y": null,
            "padding": null,
            "right": null,
            "top": null,
            "visibility": null,
            "width": null
          }
        },
        "eb616a800b38491985f00fd67079bdf9": {
          "model_module": "@jupyter-widgets/base",
          "model_name": "LayoutModel",
          "model_module_version": "1.2.0",
          "state": {
            "_model_module": "@jupyter-widgets/base",
            "_model_module_version": "1.2.0",
            "_model_name": "LayoutModel",
            "_view_count": null,
            "_view_module": "@jupyter-widgets/base",
            "_view_module_version": "1.2.0",
            "_view_name": "LayoutView",
            "align_content": null,
            "align_items": null,
            "align_self": null,
            "border": null,
            "bottom": null,
            "display": null,
            "flex": null,
            "flex_flow": null,
            "grid_area": null,
            "grid_auto_columns": null,
            "grid_auto_flow": null,
            "grid_auto_rows": null,
            "grid_column": null,
            "grid_gap": null,
            "grid_row": null,
            "grid_template_areas": null,
            "grid_template_columns": null,
            "grid_template_rows": null,
            "height": null,
            "justify_content": null,
            "justify_items": null,
            "left": null,
            "margin": null,
            "max_height": null,
            "max_width": null,
            "min_height": null,
            "min_width": null,
            "object_fit": null,
            "object_position": null,
            "order": null,
            "overflow": null,
            "overflow_x": null,
            "overflow_y": null,
            "padding": null,
            "right": null,
            "top": null,
            "visibility": null,
            "width": null
          }
        },
        "2081e612c79d453885f02f4e7ee6e353": {
          "model_module": "@jupyter-widgets/controls",
          "model_name": "DescriptionStyleModel",
          "model_module_version": "1.5.0",
          "state": {
            "_model_module": "@jupyter-widgets/controls",
            "_model_module_version": "1.5.0",
            "_model_name": "DescriptionStyleModel",
            "_view_count": null,
            "_view_module": "@jupyter-widgets/base",
            "_view_module_version": "1.2.0",
            "_view_name": "StyleView",
            "description_width": ""
          }
        },
        "c38674a7ab7944e69d431bb019347c83": {
          "model_module": "@jupyter-widgets/base",
          "model_name": "LayoutModel",
          "model_module_version": "1.2.0",
          "state": {
            "_model_module": "@jupyter-widgets/base",
            "_model_module_version": "1.2.0",
            "_model_name": "LayoutModel",
            "_view_count": null,
            "_view_module": "@jupyter-widgets/base",
            "_view_module_version": "1.2.0",
            "_view_name": "LayoutView",
            "align_content": null,
            "align_items": null,
            "align_self": null,
            "border": null,
            "bottom": null,
            "display": null,
            "flex": null,
            "flex_flow": null,
            "grid_area": null,
            "grid_auto_columns": null,
            "grid_auto_flow": null,
            "grid_auto_rows": null,
            "grid_column": null,
            "grid_gap": null,
            "grid_row": null,
            "grid_template_areas": null,
            "grid_template_columns": null,
            "grid_template_rows": null,
            "height": null,
            "justify_content": null,
            "justify_items": null,
            "left": null,
            "margin": null,
            "max_height": null,
            "max_width": null,
            "min_height": null,
            "min_width": null,
            "object_fit": null,
            "object_position": null,
            "order": null,
            "overflow": null,
            "overflow_x": null,
            "overflow_y": null,
            "padding": null,
            "right": null,
            "top": null,
            "visibility": null,
            "width": null
          }
        }
      }
    }
  },
  "nbformat": 4,
  "nbformat_minor": 0
}